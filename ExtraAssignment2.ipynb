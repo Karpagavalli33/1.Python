{
  "nbformat": 4,
  "nbformat_minor": 0,
  "metadata": {
    "colab": {
      "provenance": []
    },
    "kernelspec": {
      "name": "python3",
      "display_name": "Python 3"
    },
    "language_info": {
      "name": "python"
    }
  },
  "cells": [
    {
      "cell_type": "code",
      "execution_count": 2,
      "metadata": {
        "colab": {
          "base_uri": "https://localhost:8080/"
        },
        "id": "A695wrBKDefi",
        "outputId": "269a07ec-ad91-4335-e5a1-9e86317d8574"
      },
      "outputs": [
        {
          "output_type": "stream",
          "name": "stdout",
          "text": [
            "0\n",
            "1\n",
            "2\n",
            "3\n",
            "4\n",
            "5\n",
            "6\n",
            "7\n",
            "8\n",
            "9\n",
            "10\n",
            "11\n",
            "12\n",
            "13\n",
            "14\n",
            "15\n",
            "16\n",
            "17\n",
            "18\n",
            "19\n"
          ]
        }
      ],
      "source": [
        "for num in range(0,20):\n",
        "  print(num)"
      ]
    },
    {
      "cell_type": "code",
      "source": [
        "for num in range(10,20):\n",
        "  print(num)"
      ],
      "metadata": {
        "colab": {
          "base_uri": "https://localhost:8080/"
        },
        "id": "hRDyiJKrFBE8",
        "outputId": "ef1f3741-d5d8-471e-e291-186fbcb2c2d7"
      },
      "execution_count": 3,
      "outputs": [
        {
          "output_type": "stream",
          "name": "stdout",
          "text": [
            "10\n",
            "11\n",
            "12\n",
            "13\n",
            "14\n",
            "15\n",
            "16\n",
            "17\n",
            "18\n",
            "19\n"
          ]
        }
      ]
    },
    {
      "cell_type": "code",
      "source": [
        "lists=[10,20,14,55,24,78,45]\n",
        "print(\"Number of items in the list2 is:\",len(lists))\n"
      ],
      "metadata": {
        "colab": {
          "base_uri": "https://localhost:8080/"
        },
        "id": "30zTwMBBFxP9",
        "outputId": "73b0082d-2b41-492a-b72a-5a835c86c1b0"
      },
      "execution_count": 4,
      "outputs": [
        {
          "output_type": "stream",
          "name": "stdout",
          "text": [
            "Number of items in the list2 is: 7\n"
          ]
        }
      ]
    },
    {
      "cell_type": "code",
      "source": [
        "str=\"Artificial Intelligence\"\n",
        "print(str)\n",
        "for num in range(0,len(str)):\n",
        "  print(str[num])"
      ],
      "metadata": {
        "colab": {
          "base_uri": "https://localhost:8080/"
        },
        "id": "VSpoOb-ReBgp",
        "outputId": "cd178530-6a1c-46c9-b599-701b7d21dba1"
      },
      "execution_count": 13,
      "outputs": [
        {
          "output_type": "stream",
          "name": "stdout",
          "text": [
            "Artificial Intelligence\n",
            "A\n",
            "r\n",
            "t\n",
            "i\n",
            "f\n",
            "i\n",
            "c\n",
            "i\n",
            "a\n",
            "l\n",
            " \n",
            "I\n",
            "n\n",
            "t\n",
            "e\n",
            "l\n",
            "l\n",
            "i\n",
            "g\n",
            "e\n",
            "n\n",
            "c\n",
            "e\n"
          ]
        }
      ]
    },
    {
      "cell_type": "code",
      "source": [
        "print(\"-Your Name-\")\n",
        "print(\"-Your age-\")\n",
        "print(\"-Your profession-\")"
      ],
      "metadata": {
        "colab": {
          "base_uri": "https://localhost:8080/"
        },
        "id": "mFQI8zVJgCHH",
        "outputId": "d006c097-4bcf-4dc8-e521-ca2afc10daad"
      },
      "execution_count": 14,
      "outputs": [
        {
          "output_type": "stream",
          "name": "stdout",
          "text": [
            "-Your Name-\n",
            "-Your age-\n",
            "-Your profession-\n"
          ]
        }
      ]
    },
    {
      "cell_type": "code",
      "source": [
        "Tuple1=(1,'welcome',2,'Hope')\n",
        "print(Tuple1)"
      ],
      "metadata": {
        "colab": {
          "base_uri": "https://localhost:8080/"
        },
        "id": "-GhL5kt1lQPR",
        "outputId": "8214bcae-c169-4de4-da97-c62e091621e9"
      },
      "execution_count": 18,
      "outputs": [
        {
          "output_type": "stream",
          "name": "stdout",
          "text": [
            "(1, 'welcome', 2, 'Hope')\n"
          ]
        }
      ]
    },
    {
      "cell_type": "code",
      "source": [
        "Tuple1=(0,1,2,3)\n",
        "Tuple2=('python','hope')\n",
        "Tuple3=(Tuple1,Tuple2)\n",
        "print(Tuple3)"
      ],
      "metadata": {
        "colab": {
          "base_uri": "https://localhost:8080/"
        },
        "id": "nLmaJC25luD2",
        "outputId": "1b63d340-ea06-4ceb-f267-f3b6e73b6d39"
      },
      "execution_count": 17,
      "outputs": [
        {
          "output_type": "stream",
          "name": "stdout",
          "text": [
            "((0, 1, 2, 3), ('python', 'hope'))\n"
          ]
        }
      ]
    },
    {
      "cell_type": "code",
      "source": [
        "lists2=[20,10,16,19,25,1,276,188]\n",
        "print(lists2)\n",
        "for num in lists2:\n",
        "  if(num%2==1):\n",
        "    print(num,\"is odd\")\n",
        "\n",
        "\n",
        "\n",
        ""
      ],
      "metadata": {
        "colab": {
          "base_uri": "https://localhost:8080/"
        },
        "id": "j41LQW0EmySe",
        "outputId": "af4e6761-dcfc-4f16-d5e6-7607ade56555"
      },
      "execution_count": 33,
      "outputs": [
        {
          "output_type": "stream",
          "name": "stdout",
          "text": [
            "[20, 10, 16, 19, 25, 1, 276, 188]\n",
            "19 is odd\n",
            "25 is odd\n",
            "1 is odd\n"
          ]
        }
      ]
    },
    {
      "cell_type": "code",
      "source": [
        "print(lists2)\n",
        "for num in lists2:\n",
        "  if(num%2==0):\n",
        "    print(num,\"is even\")\n",
        "\n"
      ],
      "metadata": {
        "colab": {
          "base_uri": "https://localhost:8080/"
        },
        "id": "MVOwC_hQouhV",
        "outputId": "8c0f37db-6397-4ef8-ec28-6ca4248b06a1"
      },
      "execution_count": 35,
      "outputs": [
        {
          "output_type": "stream",
          "name": "stdout",
          "text": [
            "[20, 10, 16, 19, 25, 1, 276, 188]\n",
            "20 is even\n",
            "10 is even\n",
            "16 is even\n",
            "276 is even\n",
            "188 is even\n"
          ]
        }
      ]
    },
    {
      "cell_type": "code",
      "source": [],
      "metadata": {
        "id": "_sNYcngjpbZ2"
      },
      "execution_count": null,
      "outputs": []
    }
  ]
}