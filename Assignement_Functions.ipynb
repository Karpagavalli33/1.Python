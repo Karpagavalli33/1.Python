{
  "nbformat": 4,
  "nbformat_minor": 0,
  "metadata": {
    "colab": {
      "provenance": []
    },
    "kernelspec": {
      "name": "python3",
      "display_name": "Python 3"
    },
    "language_info": {
      "name": "python"
    }
  },
  "cells": [
    {
      "cell_type": "code",
      "execution_count": 1,
      "metadata": {
        "id": "gRvtASBEbtar"
      },
      "outputs": [],
      "source": [
        "def subfields():\n",
        "  print(\"Sub fields in AI are:\")\n",
        "  print(\"Machine Learning\")\n",
        "  print(\"Neural Networks\")\n",
        "  print(\"Vision\")\n",
        "  print(\"Robotics\")\n",
        "  print(\"Speech processing\")\n",
        "  print(\"Natural Language Processing\")\n",
        "\n"
      ]
    },
    {
      "cell_type": "code",
      "source": [
        "subfields()"
      ],
      "metadata": {
        "colab": {
          "base_uri": "https://localhost:8080/"
        },
        "id": "p3-p37IGec36",
        "outputId": "18689174-d91a-4bb9-debe-82e3ff6db707"
      },
      "execution_count": 2,
      "outputs": [
        {
          "output_type": "stream",
          "name": "stdout",
          "text": [
            "Sub fields in AI are:\n",
            "Machine Learning\n",
            "Neural Networks\n",
            "Vision\n",
            "Robotics\n",
            "Speech processing\n",
            "Natural Language Processing\n"
          ]
        }
      ]
    },
    {
      "cell_type": "code",
      "source": [
        "def oddeven():\n",
        "  num1=int(input(\"Enter the number : \"))\n",
        "  if(num1%2==0):\n",
        "    print(num1,\"is a Even number\")\n",
        "    message=\"Even Number\"\n",
        "  else:\n",
        "    print(num1,\"is a Odd Number\")\n",
        "    message=\"Odd Number\"\n",
        "  return message\n",
        "\n"
      ],
      "metadata": {
        "id": "WFDghslOeqjt"
      },
      "execution_count": 12,
      "outputs": []
    },
    {
      "cell_type": "code",
      "source": [
        "oddeven()"
      ],
      "metadata": {
        "colab": {
          "base_uri": "https://localhost:8080/",
          "height": 70
        },
        "id": "We17fVKmfJry",
        "outputId": "171e9e21-77b2-449c-8a04-8599161a2f3d"
      },
      "execution_count": 13,
      "outputs": [
        {
          "output_type": "stream",
          "name": "stdout",
          "text": [
            "Enter the number : 8\n",
            "8 is a Even number\n"
          ]
        },
        {
          "output_type": "execute_result",
          "data": {
            "text/plain": [
              "'Even Number'"
            ],
            "application/vnd.google.colaboratory.intrinsic+json": {
              "type": "string"
            }
          },
          "metadata": {},
          "execution_count": 13
        }
      ]
    },
    {
      "cell_type": "code",
      "source": [
        "def eligibleformarriage():\n",
        "  Gender=input(\"Entet your Gender: \")\n",
        "  Age=int(input(\"Enter your age: \"))\n",
        "  if(Gender==\"Male\"):\n",
        "    if(Age>21):\n",
        "      print(\"Eligible\")\n",
        "    else:\n",
        "      print(\"Not Eligible\")\n",
        "  if(Gender==\"Female\"):\n",
        "    if(Age>18):\n",
        "      print(\"Eligible\")\n",
        "    else:\n",
        "      print(\"Not Eligible\")\n",
        "\n",
        "\n"
      ],
      "metadata": {
        "id": "l7xw9d7YfXSa"
      },
      "execution_count": 25,
      "outputs": []
    },
    {
      "cell_type": "code",
      "source": [
        "eligibleformarriage()\n"
      ],
      "metadata": {
        "colab": {
          "base_uri": "https://localhost:8080/"
        },
        "id": "jTX2M0ZAkgVw",
        "outputId": "dc93bb39-5f7c-4293-a722-a0132bcdfc92"
      },
      "execution_count": 27,
      "outputs": [
        {
          "output_type": "stream",
          "name": "stdout",
          "text": [
            "Entet your Gender: Male\n",
            "Enter your age: 18\n",
            "Not Eligible\n"
          ]
        }
      ]
    },
    {
      "cell_type": "code",
      "source": [
        "def percentage():\n",
        "  sub1=int(input(\"Enter the Subject1 =\"))\n",
        "  sub2=int(input(\"Enter the Subject2 =\"))\n",
        "  sub3=int(input(\"Enter the Subject3 =\"))\n",
        "  sub4=int(input(\"Enter the Subject4 =\"))\n",
        "  sub5=int(input(\"Enter the Subject5 =\"))\n",
        "  Total=sub1+sub2+sub3+sub4+sub5\n",
        "  percentage=(Total/5)\n",
        "  print(\"Total =\", Total)\n",
        "  print(\"percentage =\",percentage)"
      ],
      "metadata": {
        "id": "LYdw2DT2knRK"
      },
      "execution_count": 38,
      "outputs": []
    },
    {
      "cell_type": "code",
      "source": [
        "percentage()\n"
      ],
      "metadata": {
        "colab": {
          "base_uri": "https://localhost:8080/"
        },
        "id": "oFPok_agm11z",
        "outputId": "d1bb3d1c-2704-44b8-85a6-292a5c99c02a"
      },
      "execution_count": 39,
      "outputs": [
        {
          "output_type": "stream",
          "name": "stdout",
          "text": [
            "Enter the Subject1 =98\n",
            "Enter the Subject2 =87\n",
            "Enter the Subject3 =95\n",
            "Enter the Subject4 =95\n",
            "Enter the Subject5 =93\n",
            "Total = 468\n",
            "percentage = 93.6\n"
          ]
        }
      ]
    },
    {
      "cell_type": "code",
      "source": [
        "def triangle():\n",
        "  height=int(input(\"Height = \"))\n",
        "  Breadth=int(input(\"Breadth = \"))\n",
        "  Area=(height*Breadth)/2\n",
        "  print(\"Area of the Traingle =\",Area)\n",
        "  height1=int(input(\"Height=\"))\n",
        "  height2=int(input(\"Height=\"))\n",
        "  Breadth2=int(input(\"Breadth=\"))\n",
        "  perimeter=height1+height2+Breadth2\n",
        "  print(\"Perimeter of the Triangle = \",perimeter)"
      ],
      "metadata": {
        "id": "rhDtv167m355"
      },
      "execution_count": 42,
      "outputs": []
    },
    {
      "cell_type": "code",
      "source": [
        "triangle()\n"
      ],
      "metadata": {
        "colab": {
          "base_uri": "https://localhost:8080/"
        },
        "id": "e9yOxyaAthx_",
        "outputId": "619a1a6a-320e-4894-8ce9-9103917422ce"
      },
      "execution_count": 44,
      "outputs": [
        {
          "output_type": "stream",
          "name": "stdout",
          "text": [
            "Height = 32\n",
            "Breadth = 34\n",
            "Area of the Traingle = 544.0\n",
            "Height=9\n",
            "Height=10\n",
            "Breadth=10\n",
            "Perimeter of the Triangle =  29\n"
          ]
        }
      ]
    },
    {
      "cell_type": "code",
      "source": [],
      "metadata": {
        "id": "-YuZQ993vRQx"
      },
      "execution_count": null,
      "outputs": []
    }
  ]
}