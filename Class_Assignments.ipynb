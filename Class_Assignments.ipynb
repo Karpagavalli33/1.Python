{
  "nbformat": 4,
  "nbformat_minor": 0,
  "metadata": {
    "colab": {
      "provenance": []
    },
    "kernelspec": {
      "name": "python3",
      "display_name": "Python 3"
    },
    "language_info": {
      "name": "python"
    }
  },
  "cells": [
    {
      "cell_type": "code",
      "execution_count": 2,
      "metadata": {
        "id": "qapwjoYzwP-W"
      },
      "outputs": [],
      "source": [
        "class subfieldsinAI():\n",
        "  def subfields():\n",
        "    print(\"Sub fields in AI are:\")\n",
        "    print(\"Machine Learning\")\n",
        "    print(\"Neural Networks\")\n",
        "    print(\"Vision\")\n",
        "    print(\"Robotics\")\n",
        "    print(\"Speech processing\")\n",
        "    print(\"Natural Language Processing\")"
      ]
    },
    {
      "cell_type": "code",
      "source": [
        "class oddeven():\n",
        "  def oddeven():\n",
        "    num1=int(input(\"Enter the number : \"))\n",
        "    if(num1%2==0):\n",
        "      print(num1,\"is a Even number\")\n",
        "      message=\"Even Number\"\n",
        "    else:\n",
        "      print(num1,\"is a Odd Number\")\n",
        "      message=\"Odd Number\"\n",
        "    return message\n"
      ],
      "metadata": {
        "id": "hjffqWLmyN-c"
      },
      "execution_count": 3,
      "outputs": []
    },
    {
      "cell_type": "code",
      "source": [
        "class eligible():\n",
        "  def eligibleformarriage():\n",
        "    Gender=input(\"Entet your Gender: \")\n",
        "    Age=int(input(\"Enter your age: \"))\n",
        "    if(Gender==\"Male\"):\n",
        "      if(Age>21):\n",
        "        print(\"Eligible\")\n",
        "      else:\n",
        "        print(\"Not Eligible\")\n",
        "    if(Gender==\"Female\"):\n",
        "      if(Age>18):\n",
        "        print(\"Eligible\")\n",
        "      else:\n",
        "        print(\"Not Eligible\")\n"
      ],
      "metadata": {
        "id": "TIfPa4kuykem"
      },
      "execution_count": 10,
      "outputs": []
    },
    {
      "cell_type": "code",
      "source": [
        "class percentage():\n",
        "  def percentage():\n",
        "    sub1=int(input(\"Enter the Subject1 =\"))\n",
        "    sub2=int(input(\"Enter the Subject2 =\"))\n",
        "    sub3=int(input(\"Enter the Subject3 =\"))\n",
        "    sub4=int(input(\"Enter the Subject4 =\"))\n",
        "    sub5=int(input(\"Enter the Subject5 =\"))\n",
        "    Total=sub1+sub2+sub3+sub4+sub5\n",
        "    percentage=(Total/5)\n",
        "    print(\"Total =\", Total)\n",
        "    print(\"percentage =\",percentage)\n",
        "\n",
        "\n"
      ],
      "metadata": {
        "id": "l7xw9d7YfXSa"
      },
      "execution_count": 5,
      "outputs": []
    },
    {
      "cell_type": "code",
      "source": [
        "class triangle():\n",
        "  def triangle():\n",
        "    height=int(input(\"Height = \"))\n",
        "    Breadth=int(input(\"Breadth = \"))\n",
        "    Area=(height*Breadth)/2\n",
        "    print(\"Area of the Traingle =\",Area)\n",
        "    height1=int(input(\"Height=\"))\n",
        "    height2=int(input(\"Height=\"))\n",
        "    Breadth2=int(input(\"Breadth=\"))\n",
        "    perimeter=height1+height2+Breadth2\n",
        "    print(\"Perimeter of the Triangle = \",perimeter)"
      ],
      "metadata": {
        "id": "JGtFcViozN3h"
      },
      "execution_count": 6,
      "outputs": []
    },
    {
      "cell_type": "code",
      "source": [
        "subfieldsinAI.subfields()\n"
      ],
      "metadata": {
        "colab": {
          "base_uri": "https://localhost:8080/"
        },
        "id": "pzfiL_50zVtd",
        "outputId": "f58ef3df-0ab9-48bb-b51a-efa33d5b349c"
      },
      "execution_count": 7,
      "outputs": [
        {
          "output_type": "stream",
          "name": "stdout",
          "text": [
            "Sub fields in AI are:\n",
            "Machine Learning\n",
            "Neural Networks\n",
            "Vision\n",
            "Robotics\n",
            "Speech processing\n",
            "Natural Language Processing\n"
          ]
        }
      ]
    },
    {
      "cell_type": "code",
      "source": [
        "oddeven.oddeven()"
      ],
      "metadata": {
        "colab": {
          "base_uri": "https://localhost:8080/",
          "height": 70
        },
        "id": "zvn5RCoozgKV",
        "outputId": "7bb42e69-5daa-44db-c817-ea645b30de53"
      },
      "execution_count": 8,
      "outputs": [
        {
          "output_type": "stream",
          "name": "stdout",
          "text": [
            "Enter the number : 8\n",
            "8 is a Even number\n"
          ]
        },
        {
          "output_type": "execute_result",
          "data": {
            "text/plain": [
              "'Even Number'"
            ],
            "application/vnd.google.colaboratory.intrinsic+json": {
              "type": "string"
            }
          },
          "metadata": {},
          "execution_count": 8
        }
      ]
    },
    {
      "cell_type": "code",
      "source": [
        "eligible.eligibleformarriage()"
      ],
      "metadata": {
        "colab": {
          "base_uri": "https://localhost:8080/"
        },
        "id": "SyUxAOIizlep",
        "outputId": "c46bbb4e-197d-4e7f-c6a1-e79705ddc150"
      },
      "execution_count": 11,
      "outputs": [
        {
          "output_type": "stream",
          "name": "stdout",
          "text": [
            "Entet your Gender: Female\n",
            "Enter your age: 20\n",
            "Eligible\n"
          ]
        }
      ]
    },
    {
      "cell_type": "code",
      "source": [
        "percentage.percentage()\n"
      ],
      "metadata": {
        "colab": {
          "base_uri": "https://localhost:8080/"
        },
        "id": "tN_MgBe2zyLW",
        "outputId": "a85d4165-6f65-4d26-ab38-b2b448fb2d1e"
      },
      "execution_count": 12,
      "outputs": [
        {
          "output_type": "stream",
          "name": "stdout",
          "text": [
            "Enter the Subject1 =90\n",
            "Enter the Subject2 =90\n",
            "Enter the Subject3 =94\n",
            "Enter the Subject4 =91\n",
            "Enter the Subject5 =99\n",
            "Total = 464\n",
            "percentage = 92.8\n"
          ]
        }
      ]
    },
    {
      "cell_type": "code",
      "source": [
        "triangle.triangle()\n"
      ],
      "metadata": {
        "colab": {
          "base_uri": "https://localhost:8080/"
        },
        "id": "UyjDKOgf0Pz1",
        "outputId": "5ae28503-5fb6-4bd1-a8d5-40622ff9b6b3"
      },
      "execution_count": 13,
      "outputs": [
        {
          "output_type": "stream",
          "name": "stdout",
          "text": [
            "Height = 56\n",
            "Breadth = 67\n",
            "Area of the Traingle = 1876.0\n",
            "Height=9\n",
            "Height=3\n",
            "Breadth=5\n",
            "Perimeter of the Triangle =  17\n"
          ]
        }
      ]
    },
    {
      "cell_type": "code",
      "source": [],
      "metadata": {
        "id": "Q80v-XVJ0YWT"
      },
      "execution_count": 13,
      "outputs": []
    }
  ]
}