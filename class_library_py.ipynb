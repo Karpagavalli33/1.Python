{
  "nbformat": 4,
  "nbformat_minor": 0,
  "metadata": {
    "colab": {
      "provenance": [],
      "gpuType": "T4"
    },
    "kernelspec": {
      "name": "python3",
      "display_name": "Python 3"
    },
    "language_info": {
      "name": "python"
    }
  },
  "cells": [
    {
      "cell_type": "code",
      "execution_count": 2,
      "metadata": {
        "id": "asYewOAS520L"
      },
      "outputs": [],
      "source": [
        "from multiplefunctions import multiplefunctions"
      ]
    },
    {
      "cell_type": "code",
      "source": [],
      "metadata": {
        "id": "YEBNKEoY8Y-Z"
      },
      "execution_count": null,
      "outputs": []
    },
    {
      "cell_type": "code",
      "source": [
        "multiplefunctions.subfields()"
      ],
      "metadata": {
        "colab": {
          "base_uri": "https://localhost:8080/"
        },
        "id": "OnRbpfmc7K5a",
        "outputId": "1e9dc3e8-1aa5-451d-b949-e4d81498b55a"
      },
      "execution_count": 3,
      "outputs": [
        {
          "output_type": "stream",
          "name": "stdout",
          "text": [
            "Sub fields in AI are:\n",
            "Machine Learning\n",
            "Neural Networks\n",
            "Vision\n",
            "Robotics\n",
            "Speech processing\n",
            "Natural Language Processing\n"
          ]
        }
      ]
    },
    {
      "cell_type": "markdown",
      "source": [],
      "metadata": {
        "id": "Eq_f9_Tt7LbJ"
      }
    },
    {
      "cell_type": "code",
      "source": [
        "multiplefunctions.oddeven()"
      ],
      "metadata": {
        "colab": {
          "base_uri": "https://localhost:8080/",
          "height": 70
        },
        "id": "THCBLm_k8dRR",
        "outputId": "43a52d46-2216-4379-ad1f-ba7f93730cf9"
      },
      "execution_count": 4,
      "outputs": [
        {
          "output_type": "stream",
          "name": "stdout",
          "text": [
            "Enter the number : 67\n",
            "67 is a Odd Number\n"
          ]
        },
        {
          "output_type": "execute_result",
          "data": {
            "text/plain": [
              "'Odd Number'"
            ],
            "application/vnd.google.colaboratory.intrinsic+json": {
              "type": "string"
            }
          },
          "metadata": {},
          "execution_count": 4
        }
      ]
    },
    {
      "cell_type": "code",
      "source": [
        "multiplefunctions.eligibleformarriage()"
      ],
      "metadata": {
        "colab": {
          "base_uri": "https://localhost:8080/"
        },
        "id": "WEfPM3xU8heQ",
        "outputId": "68cd9059-e050-4585-de11-35f94467d4d5"
      },
      "execution_count": 5,
      "outputs": [
        {
          "name": "stdout",
          "output_type": "stream",
          "text": [
            "Entet your Gender: M\n",
            "Enter your age: 8\n"
          ]
        }
      ]
    },
    {
      "cell_type": "code",
      "source": [
        "multiplefunctions.percentage()"
      ],
      "metadata": {
        "colab": {
          "base_uri": "https://localhost:8080/"
        },
        "id": "i5uOhqdZ8oCY",
        "outputId": "ad6913d2-a7c1-4011-cabd-b1d11c3893fb"
      },
      "execution_count": 6,
      "outputs": [
        {
          "output_type": "stream",
          "name": "stdout",
          "text": [
            "Enter the Subject1 =89\n",
            "Enter the Subject2 =8\n",
            "Enter the Subject3 =78\n",
            "Enter the Subject4 =96\n",
            "Enter the Subject5 =78\n",
            "Total = 349\n",
            "percentage = 69.8\n"
          ]
        }
      ]
    },
    {
      "cell_type": "code",
      "source": [
        "multiplefunctions.triangle()\n"
      ],
      "metadata": {
        "colab": {
          "base_uri": "https://localhost:8080/"
        },
        "id": "Y_oFEZ0W8wRx",
        "outputId": "29b9c814-996f-4f9b-d340-3891abd1ba63"
      },
      "execution_count": 9,
      "outputs": [
        {
          "output_type": "stream",
          "name": "stdout",
          "text": [
            "Height = 90\n",
            "Breadth = 9\n",
            "Area of the Traingle = 405.0\n",
            "Height=99\n",
            "Height=878\n",
            "Breadth=98\n",
            "Perimeter of the Triangle =  1075\n"
          ]
        }
      ]
    },
    {
      "cell_type": "code",
      "source": [],
      "metadata": {
        "id": "2btmX4FQF4u5"
      },
      "execution_count": null,
      "outputs": []
    },
    {
      "cell_type": "code",
      "source": [],
      "metadata": {
        "id": "7EiwWeUK85Q4"
      },
      "execution_count": null,
      "outputs": []
    }
  ]
}