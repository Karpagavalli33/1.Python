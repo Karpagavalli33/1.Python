{
  "nbformat": 4,
  "nbformat_minor": 0,
  "metadata": {
    "colab": {
      "provenance": []
    },
    "kernelspec": {
      "name": "python3",
      "display_name": "Python 3"
    },
    "language_info": {
      "name": "python"
    }
  },
  "cells": [
    {
      "cell_type": "code",
      "execution_count": 2,
      "metadata": {
        "colab": {
          "base_uri": "https://localhost:8080/"
        },
        "id": "euPm3Za9Huuc",
        "outputId": "519c8ce0-54a3-41af-b049-1c1b702eb25b"
      },
      "outputs": [
        {
          "output_type": "stream",
          "name": "stdout",
          "text": [
            "Value :10\n",
            "CORRCT\n"
          ]
        }
      ],
      "source": [
        "i=int(input(\"Value :\"))\n",
        "if(i==10):\n",
        "  print(\"CORRCT\")\n"
      ]
    },
    {
      "cell_type": "code",
      "source": [
        "pwd=input(\"Enter th Password : \")\n",
        "if(pwd==\"HOPE@123\"):\n",
        "  print(\"Password is correct\")\n",
        "else:\n",
        "  print(\"Password is incorrect\")"
      ],
      "metadata": {
        "colab": {
          "base_uri": "https://localhost:8080/"
        },
        "id": "WWv9U__3Jjz4",
        "outputId": "9bfdcaf3-9e34-41bc-af24-b95d996ec3a2"
      },
      "execution_count": 6,
      "outputs": [
        {
          "output_type": "stream",
          "name": "stdout",
          "text": [
            "Enter th Password : HOPE@123\n",
            "Password is correct\n"
          ]
        }
      ]
    },
    {
      "cell_type": "code",
      "source": [
        "age=int(input(\"Enter the age :\"))\n",
        "if(age<18):\n",
        "  print(\"children\")\n",
        "elif(age<35):\n",
        "  print(\"adult\")\n",
        "elif(age<59):\n",
        "  print(\"Citizen\")\n",
        "else:\n",
        "  print(\"Senior Citizen\")\n"
      ],
      "metadata": {
        "colab": {
          "base_uri": "https://localhost:8080/"
        },
        "id": "7H_fkA03Ltks",
        "outputId": "9db9acea-a018-4f54-d0ba-713a8f20cd11"
      },
      "execution_count": 9,
      "outputs": [
        {
          "output_type": "stream",
          "name": "stdout",
          "text": [
            "Enter the age :45\n",
            "Citizen\n"
          ]
        }
      ]
    },
    {
      "cell_type": "code",
      "source": [
        "num=int(input(\"Enter the number : \"))\n",
        "if(num<0):\n",
        "  print(\"Negative no\")\n",
        "else:\n",
        "  print(\"Positive no\")\n"
      ],
      "metadata": {
        "colab": {
          "base_uri": "https://localhost:8080/"
        },
        "id": "layBWrcMNhzE",
        "outputId": "a253a13e-eb8a-4656-f1af-15ce25494850"
      },
      "execution_count": 13,
      "outputs": [
        {
          "output_type": "stream",
          "name": "stdout",
          "text": [
            "Enter the number : -4767\n",
            "Negative no\n"
          ]
        }
      ]
    },
    {
      "cell_type": "code",
      "source": [
        "num1=int(input(\"Enter the number : \"))\n",
        "if((num1%5)==0):\n",
        "  print(\"The Number is divisible by 5\")\n",
        "else:\n",
        "  print(\"The Number is not divisible by 5\")\n"
      ],
      "metadata": {
        "colab": {
          "base_uri": "https://localhost:8080/"
        },
        "id": "mjhuD1M3OX5w",
        "outputId": "45bca274-5ab5-4523-8b5d-ddfdb1dd30fb"
      },
      "execution_count": 12,
      "outputs": [
        {
          "output_type": "stream",
          "name": "stdout",
          "text": [
            "Enter the number : 65\n",
            "The Number is divisible by 5\n"
          ]
        }
      ]
    },
    {
      "cell_type": "code",
      "source": [],
      "metadata": {
        "id": "F4t8axgmPmu_"
      },
      "execution_count": null,
      "outputs": []
    }
  ]
}