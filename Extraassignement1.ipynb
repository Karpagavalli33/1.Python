{
  "nbformat": 4,
  "nbformat_minor": 0,
  "metadata": {
    "colab": {
      "provenance": []
    },
    "kernelspec": {
      "name": "python3",
      "display_name": "Python 3"
    },
    "language_info": {
      "name": "python"
    }
  },
  "cells": [
    {
      "cell_type": "code",
      "execution_count": 1,
      "metadata": {
        "colab": {
          "base_uri": "https://localhost:8080/"
        },
        "id": "eA0mVqbR9sqf",
        "outputId": "fc244437-4d3b-4969-e9ee-21a183139842"
      },
      "outputs": [
        {
          "output_type": "stream",
          "name": "stdout",
          "text": [
            "HOPE AI\n"
          ]
        }
      ],
      "source": [
        "print(\"HOPE AI\")"
      ]
    },
    {
      "cell_type": "code",
      "source": [
        "name=input(\"Enter your Institute name ? :\")\n"
      ],
      "metadata": {
        "colab": {
          "base_uri": "https://localhost:8080/"
        },
        "id": "IKxI_4xk99nm",
        "outputId": "2581b0f9-1d43-4d91-ce4b-218874e0438e"
      },
      "execution_count": 5,
      "outputs": [
        {
          "name": "stdout",
          "output_type": "stream",
          "text": [
            "Enter your Institute name ? :Hope AI\n"
          ]
        }
      ]
    },
    {
      "cell_type": "code",
      "source": [
        "name1=input(\"Enter your name :\")\n",
        "age=int(input(\"Enter your age :\"))\n",
        "sname=input(\"Enter your school name :\")\n",
        "degree=input(\"Enter your degree :\")"
      ],
      "metadata": {
        "colab": {
          "base_uri": "https://localhost:8080/"
        },
        "id": "DFvcihRh-UCK",
        "outputId": "5651092a-33b5-4004-fe71-ac748aa195ad"
      },
      "execution_count": 7,
      "outputs": [
        {
          "name": "stdout",
          "output_type": "stream",
          "text": [
            "Enter your name :Karpagavalli\n",
            "Enter your age :34\n",
            "Enter your school name :KLU\n",
            "Enter your degree :B.Tech\n"
          ]
        }
      ]
    },
    {
      "cell_type": "code",
      "source": [
        "a=43\n",
        "b=34\n",
        "add=(a+b)\n",
        "print(\"a=\",a)\n",
        "print(\"b=\",b)\n",
        "print(\"Add=\",add)"
      ],
      "metadata": {
        "colab": {
          "base_uri": "https://localhost:8080/"
        },
        "id": "mYW3VWnD_kIp",
        "outputId": "e80beca9-1971-448f-a010-cd76cb783b38"
      },
      "execution_count": 20,
      "outputs": [
        {
          "output_type": "stream",
          "name": "stdout",
          "text": [
            "a= 43\n",
            "b= 34\n",
            "Add= 77\n"
          ]
        }
      ]
    },
    {
      "cell_type": "code",
      "source": [
        "a=43\n",
        "b=34\n",
        "sub=(a-b)\n",
        "print(\"a=\",a)\n",
        "print(\"b=\",b)\n",
        "print(\"Sub=\",sub)"
      ],
      "metadata": {
        "colab": {
          "base_uri": "https://localhost:8080/"
        },
        "id": "p5gxfUg6AVCD",
        "outputId": "781aeadb-b07b-420d-b3ca-6dba23af71fe"
      },
      "execution_count": 22,
      "outputs": [
        {
          "output_type": "stream",
          "name": "stdout",
          "text": [
            "a= 43\n",
            "b= 34\n",
            "Sub= 9\n"
          ]
        }
      ]
    },
    {
      "cell_type": "code",
      "source": [
        "a=64\n",
        "b=11\n",
        "mul=a*b\n",
        "print(\"a=\",a)\n",
        "print(\"b=\",b)\n",
        "print(\"Mul=\",mul)"
      ],
      "metadata": {
        "colab": {
          "base_uri": "https://localhost:8080/"
        },
        "id": "NdOf2p4GAtnT",
        "outputId": "09126af1-9ecc-44a1-920b-1fc2edc9d373"
      },
      "execution_count": 17,
      "outputs": [
        {
          "output_type": "stream",
          "name": "stdout",
          "text": [
            "a= 64\n",
            "b= 11\n",
            "mul= 704\n"
          ]
        }
      ]
    },
    {
      "cell_type": "code",
      "source": [
        "a=64\n",
        "b=11\n",
        "div=a/b\n",
        "print(\"a=\",a)\n",
        "print(\"b=\",b)\n",
        "print(\"Float div=\",div)"
      ],
      "metadata": {
        "colab": {
          "base_uri": "https://localhost:8080/"
        },
        "id": "07g9d4GnA8L5",
        "outputId": "b7186e45-5af7-4e33-dd96-2107360d2e97"
      },
      "execution_count": 16,
      "outputs": [
        {
          "output_type": "stream",
          "name": "stdout",
          "text": [
            "a= 64\n",
            "b= 11\n",
            "Float div= 5.818181818181818\n"
          ]
        }
      ]
    },
    {
      "cell_type": "code",
      "source": [
        "a=76\n",
        "b=31\n",
        "floordiv=a//b\n",
        "print(\"a=\",a)\n",
        "print(\"b=\",b)\n",
        "print(\"Floor Div=\",floordiv)"
      ],
      "metadata": {
        "colab": {
          "base_uri": "https://localhost:8080/"
        },
        "id": "_-umvI6kBKv2",
        "outputId": "60868a71-c69b-48b0-c193-5e7ee3e05de5"
      },
      "execution_count": 23,
      "outputs": [
        {
          "output_type": "stream",
          "name": "stdout",
          "text": [
            "a= 76\n",
            "b= 31\n",
            "Floor Div= 2\n"
          ]
        }
      ]
    },
    {
      "cell_type": "code",
      "source": [
        "a=76\n",
        "b=31\n",
        "modulo=a%b\n",
        "print(\"a=\",a)\n",
        "print(\"b=\",b)\n",
        "print(\"Modulo=\",modulo)"
      ],
      "metadata": {
        "colab": {
          "base_uri": "https://localhost:8080/"
        },
        "id": "r6OojyrlDJcc",
        "outputId": "1ede4b34-27b1-4498-b7d3-3bcdc0c621e3"
      },
      "execution_count": 24,
      "outputs": [
        {
          "output_type": "stream",
          "name": "stdout",
          "text": [
            "a= 76\n",
            "b= 31\n",
            "Modulo= 14\n"
          ]
        }
      ]
    },
    {
      "cell_type": "code",
      "source": [
        "a=4\n",
        "b=4\n",
        "power=a**b\n",
        "print(\"a=\",a)\n",
        "print(\"b=\",b)\n",
        "print(\"Power=\",power)"
      ],
      "metadata": {
        "colab": {
          "base_uri": "https://localhost:8080/"
        },
        "id": "61p-x2taDpJU",
        "outputId": "976f5d72-5c87-459f-ed82-8f6d300fda17"
      },
      "execution_count": 26,
      "outputs": [
        {
          "output_type": "stream",
          "name": "stdout",
          "text": [
            "a= 4\n",
            "b= 4\n",
            "Power= 256\n"
          ]
        }
      ]
    },
    {
      "cell_type": "code",
      "source": [],
      "metadata": {
        "id": "6qTH79ZeEAHt"
      },
      "execution_count": null,
      "outputs": []
    }
  ]
}